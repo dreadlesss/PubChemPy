{
 "cells": [
  {
   "cell_type": "code",
   "execution_count": 2,
   "metadata": {},
   "outputs": [],
   "source": [
    "import pandas as pd\n",
    "from pubchempy import get_compounds, Compound"
   ]
  },
  {
   "cell_type": "code",
   "execution_count": 78,
   "metadata": {},
   "outputs": [
    {
     "data": {
      "text/html": [
       "<div>\n",
       "<style scoped>\n",
       "    .dataframe tbody tr th:only-of-type {\n",
       "        vertical-align: middle;\n",
       "    }\n",
       "\n",
       "    .dataframe tbody tr th {\n",
       "        vertical-align: top;\n",
       "    }\n",
       "\n",
       "    .dataframe thead th {\n",
       "        text-align: right;\n",
       "    }\n",
       "</style>\n",
       "<table border=\"1\" class=\"dataframe\">\n",
       "  <thead>\n",
       "    <tr style=\"text-align: right;\">\n",
       "      <th></th>\n",
       "      <th>Name</th>\n",
       "      <th>CAS</th>\n",
       "      <th>SMILES</th>\n",
       "    </tr>\n",
       "  </thead>\n",
       "  <tbody>\n",
       "    <tr>\n",
       "      <td>0</td>\n",
       "      <td>α-hANP</td>\n",
       "      <td>85637-73-6</td>\n",
       "      <td>N1[C@H](C(=O)N[C@H](C(=O)N[C@H](C(=O)N[C@H](C(...</td>\n",
       "    </tr>\n",
       "    <tr>\n",
       "      <td>1</td>\n",
       "      <td>Astragaloside IV</td>\n",
       "      <td>84687-43-4</td>\n",
       "      <td>CC(C)(O)[C@@H]1CC[C@@](C)(O1)[C@H]2[C@@H](O)C[...</td>\n",
       "    </tr>\n",
       "    <tr>\n",
       "      <td>2</td>\n",
       "      <td>Carocainide</td>\n",
       "      <td>66203-00-7</td>\n",
       "      <td>C1CCN(C1)CCOc1c(OC)c2occc2c(c1NC(NC)=O)OC</td>\n",
       "    </tr>\n",
       "  </tbody>\n",
       "</table>\n",
       "</div>"
      ],
      "text/plain": [
       "               Name         CAS  \\\n",
       "0            α-hANP  85637-73-6   \n",
       "1  Astragaloside IV  84687-43-4   \n",
       "2       Carocainide  66203-00-7   \n",
       "\n",
       "                                              SMILES  \n",
       "0  N1[C@H](C(=O)N[C@H](C(=O)N[C@H](C(=O)N[C@H](C(...  \n",
       "1  CC(C)(O)[C@@H]1CC[C@@](C)(O1)[C@H]2[C@@H](O)C[...  \n",
       "2          C1CCN(C1)CCOc1c(OC)c2occc2c(c1NC(NC)=O)OC  "
      ]
     },
     "execution_count": 78,
     "metadata": {},
     "output_type": "execute_result"
    }
   ],
   "source": [
    "df = pd.read_csv('test_data.csv', sep='\\t')\n",
    "df.head(3)"
   ]
  },
  {
   "cell_type": "markdown",
   "metadata": {},
   "source": [
    "# 1.Convert name/CAS into SMILES"
   ]
  },
  {
   "cell_type": "code",
   "execution_count": 65,
   "metadata": {},
   "outputs": [],
   "source": [
    "def name2Smiles(df, name_col, smiles_col, verbose=True):\n",
    "    error_list = []\n",
    "    for index, row in df.iterrows():\n",
    "        name = row[name_col]\n",
    "        com = get_compounds(name, namespace='name')\n",
    "        if len(com) == 0:\n",
    "            if verbose:\n",
    "                print('No results found! {},{}'.format(index, name))\n",
    "            error_list.append(index)\n",
    "        else:\n",
    "            smi = com[0].canonical_smiles\n",
    "            df.loc[index, smiles_col] = smi\n",
    "            if verbose:\n",
    "                print('Finish {}, {}'.format(index, name))\n",
    "    return error_list"
   ]
  },
  {
   "cell_type": "code",
   "execution_count": 66,
   "metadata": {},
   "outputs": [
    {
     "name": "stdout",
     "output_type": "stream",
     "text": [
      "No results found! 0,α-hANP\n",
      "Finish 1, Astragaloside IV\n",
      "Finish 2, Carocainide\n",
      "Finish 3, Clindamycin\n",
      "Finish 4, Dimetindene\n",
      "Finish 5, Fenspiride\n",
      "Finish 6, Hexobarbital\n",
      "Finish 7, Lanreotide\n",
      "Finish 8, Metronidazole\n",
      "Finish 9, Olsalazine\n",
      "Finish 10, PR-104\n",
      "Finish 11, Safinamide\n",
      "Finish 12, Teriparatide\n"
     ]
    }
   ],
   "source": [
    "error = name2Smiles(df, 'Name', 'new_smiles')"
   ]
  },
  {
   "cell_type": "markdown",
   "metadata": {},
   "source": [
    "* View results"
   ]
  },
  {
   "cell_type": "code",
   "execution_count": 67,
   "metadata": {},
   "outputs": [
    {
     "data": {
      "text/html": [
       "<div>\n",
       "<style scoped>\n",
       "    .dataframe tbody tr th:only-of-type {\n",
       "        vertical-align: middle;\n",
       "    }\n",
       "\n",
       "    .dataframe tbody tr th {\n",
       "        vertical-align: top;\n",
       "    }\n",
       "\n",
       "    .dataframe thead th {\n",
       "        text-align: right;\n",
       "    }\n",
       "</style>\n",
       "<table border=\"1\" class=\"dataframe\">\n",
       "  <thead>\n",
       "    <tr style=\"text-align: right;\">\n",
       "      <th></th>\n",
       "      <th>Name</th>\n",
       "      <th>CAS</th>\n",
       "      <th>SMILES</th>\n",
       "      <th>new_smiles</th>\n",
       "    </tr>\n",
       "  </thead>\n",
       "  <tbody>\n",
       "    <tr>\n",
       "      <td>0</td>\n",
       "      <td>α-hANP</td>\n",
       "      <td>85637-73-6</td>\n",
       "      <td>N1[C@H](C(=O)N[C@H](C(=O)N[C@H](C(=O)N[C@H](C(...</td>\n",
       "      <td>NaN</td>\n",
       "    </tr>\n",
       "    <tr>\n",
       "      <td>1</td>\n",
       "      <td>Astragaloside IV</td>\n",
       "      <td>84687-43-4</td>\n",
       "      <td>CC(C)(O)[C@@H]1CC[C@@](C)(O1)[C@H]2[C@@H](O)C[...</td>\n",
       "      <td>CC1(C(CCC23C1C(CC4C2(C3)CCC5(C4(CC(C5C6(CCC(O6...</td>\n",
       "    </tr>\n",
       "    <tr>\n",
       "      <td>2</td>\n",
       "      <td>Carocainide</td>\n",
       "      <td>66203-00-7</td>\n",
       "      <td>C1CCN(C1)CCOc1c(OC)c2occc2c(c1NC(NC)=O)OC</td>\n",
       "      <td>CNC(=O)NC1=C(C2=C(C(=C1OCCN3CCCC3)OC)OC=C2)OC</td>\n",
       "    </tr>\n",
       "  </tbody>\n",
       "</table>\n",
       "</div>"
      ],
      "text/plain": [
       "               Name         CAS  \\\n",
       "0            α-hANP  85637-73-6   \n",
       "1  Astragaloside IV  84687-43-4   \n",
       "2       Carocainide  66203-00-7   \n",
       "\n",
       "                                              SMILES  \\\n",
       "0  N1[C@H](C(=O)N[C@H](C(=O)N[C@H](C(=O)N[C@H](C(...   \n",
       "1  CC(C)(O)[C@@H]1CC[C@@](C)(O1)[C@H]2[C@@H](O)C[...   \n",
       "2          C1CCN(C1)CCOc1c(OC)c2occc2c(c1NC(NC)=O)OC   \n",
       "\n",
       "                                          new_smiles  \n",
       "0                                                NaN  \n",
       "1  CC1(C(CCC23C1C(CC4C2(C3)CCC5(C4(CC(C5C6(CCC(O6...  \n",
       "2      CNC(=O)NC1=C(C2=C(C(=C1OCCN3CCCC3)OC)OC=C2)OC  "
      ]
     },
     "execution_count": 67,
     "metadata": {},
     "output_type": "execute_result"
    }
   ],
   "source": [
    "df.head(3)"
   ]
  },
  {
   "cell_type": "markdown",
   "metadata": {},
   "source": [
    "* failed results"
   ]
  },
  {
   "cell_type": "code",
   "execution_count": 70,
   "metadata": {},
   "outputs": [
    {
     "data": {
      "text/html": [
       "<div>\n",
       "<style scoped>\n",
       "    .dataframe tbody tr th:only-of-type {\n",
       "        vertical-align: middle;\n",
       "    }\n",
       "\n",
       "    .dataframe tbody tr th {\n",
       "        vertical-align: top;\n",
       "    }\n",
       "\n",
       "    .dataframe thead th {\n",
       "        text-align: right;\n",
       "    }\n",
       "</style>\n",
       "<table border=\"1\" class=\"dataframe\">\n",
       "  <thead>\n",
       "    <tr style=\"text-align: right;\">\n",
       "      <th></th>\n",
       "      <th>Name</th>\n",
       "      <th>CAS</th>\n",
       "      <th>SMILES</th>\n",
       "      <th>new_smiles</th>\n",
       "    </tr>\n",
       "  </thead>\n",
       "  <tbody>\n",
       "    <tr>\n",
       "      <td>0</td>\n",
       "      <td>α-hANP</td>\n",
       "      <td>85637-73-6</td>\n",
       "      <td>N1[C@H](C(=O)N[C@H](C(=O)N[C@H](C(=O)N[C@H](C(...</td>\n",
       "      <td>NaN</td>\n",
       "    </tr>\n",
       "  </tbody>\n",
       "</table>\n",
       "</div>"
      ],
      "text/plain": [
       "     Name         CAS                                             SMILES  \\\n",
       "0  α-hANP  85637-73-6  N1[C@H](C(=O)N[C@H](C(=O)N[C@H](C(=O)N[C@H](C(...   \n",
       "\n",
       "  new_smiles  \n",
       "0        NaN  "
      ]
     },
     "execution_count": 70,
     "metadata": {},
     "output_type": "execute_result"
    }
   ],
   "source": [
    "df.loc[error]"
   ]
  },
  {
   "cell_type": "markdown",
   "metadata": {},
   "source": [
    "# 2.Convert SMILES into synonyms/iupac_name"
   ]
  },
  {
   "cell_type": "code",
   "execution_count": 79,
   "metadata": {},
   "outputs": [],
   "source": [
    "def smiles2Name(df, name_col, smiles_col, kind='synonyms', verbose=True):\n",
    "    error_list = []\n",
    "    for index, row in df.iterrows():\n",
    "        smiles = row[smiles_col]\n",
    "        com = get_compounds(smiles, namespace='smiles')\n",
    "        if len(com) == 0:\n",
    "            if verbose:\n",
    "                print('No results found! {},{}'.format(index, name))\n",
    "            error_list.append(index)\n",
    "        else:\n",
    "            if kind == 'synonyms':\n",
    "                name = com[0].synonyms\n",
    "            elif kind == 'iupac_name':\n",
    "                name = com[0].iupac_name\n",
    "            df.loc[index, name_col] = name\n",
    "            if verbose:\n",
    "                print('Finish {}, {}'.format(index, smiles))\n",
    "    return error_list"
   ]
  },
  {
   "cell_type": "code",
   "execution_count": null,
   "metadata": {},
   "outputs": [],
   "source": [
    "error = smiles2Name(df, 'new_name', 'SMILES', kind='iupac_name', verbose=False)"
   ]
  },
  {
   "cell_type": "markdown",
   "metadata": {},
   "source": [
    "* View results"
   ]
  },
  {
   "cell_type": "code",
   "execution_count": 81,
   "metadata": {},
   "outputs": [
    {
     "data": {
      "text/html": [
       "<div>\n",
       "<style scoped>\n",
       "    .dataframe tbody tr th:only-of-type {\n",
       "        vertical-align: middle;\n",
       "    }\n",
       "\n",
       "    .dataframe tbody tr th {\n",
       "        vertical-align: top;\n",
       "    }\n",
       "\n",
       "    .dataframe thead th {\n",
       "        text-align: right;\n",
       "    }\n",
       "</style>\n",
       "<table border=\"1\" class=\"dataframe\">\n",
       "  <thead>\n",
       "    <tr style=\"text-align: right;\">\n",
       "      <th></th>\n",
       "      <th>Name</th>\n",
       "      <th>CAS</th>\n",
       "      <th>SMILES</th>\n",
       "      <th>new_name</th>\n",
       "    </tr>\n",
       "  </thead>\n",
       "  <tbody>\n",
       "    <tr>\n",
       "      <td>0</td>\n",
       "      <td>α-hANP</td>\n",
       "      <td>85637-73-6</td>\n",
       "      <td>N1[C@H](C(=O)N[C@H](C(=O)N[C@H](C(=O)N[C@H](C(...</td>\n",
       "      <td>(2S)-2-[[(2S)-2-[[(2S)-2-[[(2S)-2-[[(2S)-4-ami...</td>\n",
       "    </tr>\n",
       "    <tr>\n",
       "      <td>1</td>\n",
       "      <td>Astragaloside IV</td>\n",
       "      <td>84687-43-4</td>\n",
       "      <td>CC(C)(O)[C@@H]1CC[C@@](C)(O1)[C@H]2[C@@H](O)C[...</td>\n",
       "      <td>(2R,3R,4S,5S,6R)-2-[[(1S,3R,6S,8R,9S,11S,12S,1...</td>\n",
       "    </tr>\n",
       "    <tr>\n",
       "      <td>2</td>\n",
       "      <td>Carocainide</td>\n",
       "      <td>66203-00-7</td>\n",
       "      <td>C1CCN(C1)CCOc1c(OC)c2occc2c(c1NC(NC)=O)OC</td>\n",
       "      <td>1-[4,7-dimethoxy-6-(2-pyrrolidin-1-ylethoxy)-1...</td>\n",
       "    </tr>\n",
       "  </tbody>\n",
       "</table>\n",
       "</div>"
      ],
      "text/plain": [
       "               Name         CAS  \\\n",
       "0            α-hANP  85637-73-6   \n",
       "1  Astragaloside IV  84687-43-4   \n",
       "2       Carocainide  66203-00-7   \n",
       "\n",
       "                                              SMILES  \\\n",
       "0  N1[C@H](C(=O)N[C@H](C(=O)N[C@H](C(=O)N[C@H](C(...   \n",
       "1  CC(C)(O)[C@@H]1CC[C@@](C)(O1)[C@H]2[C@@H](O)C[...   \n",
       "2          C1CCN(C1)CCOc1c(OC)c2occc2c(c1NC(NC)=O)OC   \n",
       "\n",
       "                                            new_name  \n",
       "0  (2S)-2-[[(2S)-2-[[(2S)-2-[[(2S)-2-[[(2S)-4-ami...  \n",
       "1  (2R,3R,4S,5S,6R)-2-[[(1S,3R,6S,8R,9S,11S,12S,1...  \n",
       "2  1-[4,7-dimethoxy-6-(2-pyrrolidin-1-ylethoxy)-1...  "
      ]
     },
     "execution_count": 81,
     "metadata": {},
     "output_type": "execute_result"
    }
   ],
   "source": [
    "df.head(3)"
   ]
  }
 ],
 "metadata": {
  "kernelspec": {
   "display_name": "Python 3",
   "language": "python",
   "name": "python3"
  },
  "language_info": {
   "codemirror_mode": {
    "name": "ipython",
    "version": 3
   },
   "file_extension": ".py",
   "mimetype": "text/x-python",
   "name": "python",
   "nbconvert_exporter": "python",
   "pygments_lexer": "ipython3",
   "version": "3.7.4"
  },
  "toc-autonumbering": false
 },
 "nbformat": 4,
 "nbformat_minor": 4
}
